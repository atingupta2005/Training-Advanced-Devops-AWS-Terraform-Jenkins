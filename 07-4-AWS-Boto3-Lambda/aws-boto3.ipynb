{
 "cells": [
  {
   "cell_type": "markdown",
   "id": "367a7a05",
   "metadata": {},
   "source": [
    "# AWS Lambda with Boto3"
   ]
  },
  {
   "cell_type": "markdown",
   "id": "f7172d63",
   "metadata": {},
   "source": [
    "### Setting Up Project"
   ]
  },
  {
   "cell_type": "code",
   "execution_count": null,
   "id": "2fd83bc8",
   "metadata": {},
   "outputs": [],
   "source": [
    "import boto3\n",
    "import json"
   ]
  },
  {
   "cell_type": "code",
   "execution_count": null,
   "id": "b0f7e79f",
   "metadata": {},
   "outputs": [],
   "source": [
    "from os import path\n",
    "from utils import Utils"
   ]
  },
  {
   "cell_type": "code",
   "execution_count": null,
   "id": "95b269ee",
   "metadata": {},
   "outputs": [],
   "source": [
    "LAMBDA_ACCESS_POLICY_ARN = 'arn:aws:iam::059062539581:policy/LambdaS3AccessPolicy'\n",
    "LAMBDA_ROLE = 'Lambda_Execution_Role'\n",
    "LAMBDA_ROLE_ARN = 'arn:aws:iam::059062539581:role/Lambda_Execution_Role'\n",
    "LAMBDA_TIMEOUT = 10\n",
    "LAMBDA_MEMORY = 128\n",
    "LAMBDA_HANDLER = 'lambda_function.handler'\n",
    "PYTHON_36_RUNTIME = 'python3.6'\n",
    "NODEJS_810_RUNTIME = 'nodejs10.x'\n",
    "JAVA_8_RUNTIME = 'java8'\n",
    "NODEJS_LAMBDA_NAME = 'NodeJSLambdaFunction'\n",
    "PYTHON_LAMBDA_NAME = 'PythonLambdaFunction'\n",
    "JAVA_LAMBDA_NAME = 'JavaLambdaFunction'"
   ]
  },
  {
   "cell_type": "markdown",
   "id": "0acd8ad7",
   "metadata": {},
   "source": [
    "### Create boto3 aws client"
   ]
  },
  {
   "cell_type": "code",
   "execution_count": null,
   "id": "15c32fd1",
   "metadata": {},
   "outputs": [],
   "source": [
    "def lambda_client():\n",
    "    aws_lambda = boto3.client('lambda', region_name='eu-west-1')\n",
    "    \"\"\" :type : pyboto3.lambda \"\"\"\n",
    "    return aws_lambda"
   ]
  },
  {
   "cell_type": "markdown",
   "id": "aab6b359",
   "metadata": {},
   "source": [
    "### Create aws iam cient to create role and access policy"
   ]
  },
  {
   "cell_type": "code",
   "execution_count": null,
   "id": "77fb3e25",
   "metadata": {},
   "outputs": [],
   "source": [
    "def iam_client():\n",
    "    iam = boto3.client('iam')\n",
    "    \"\"\" :type : pyboto3.iam \"\"\"\n",
    "    return iam"
   ]
  },
  {
   "cell_type": "markdown",
   "id": "6091b636",
   "metadata": {},
   "source": [
    "### Creating an IAM Lambda Access Policy"
   ]
  },
  {
   "cell_type": "code",
   "execution_count": null,
   "id": "c0659d43",
   "metadata": {},
   "outputs": [],
   "source": [
    "def create_access_policy_for_lambda():\n",
    "    s3_access_policy_document = {\n",
    "        \"Version\": \"2012-10-17\",\n",
    "        \"Statement\": [\n",
    "            {\n",
    "                \"Action\": [\n",
    "                    \"s3:*\",\n",
    "                    \"logs:CreateLogGroup\",\n",
    "                    \"logs:CreateLogStream\",\n",
    "                    \"logs:PutLogEvents\"\n",
    "                ],\n",
    "                \"Effect\": \"Allow\",\n",
    "                \"Resource\": \"*\"\n",
    "            }\n",
    "        ]\n",
    "    }\n",
    "\n",
    "    return iam_client().create_policy(\n",
    "        PolicyName='LambdaS3AccessPolicy',\n",
    "        PolicyDocument=json.dumps(s3_access_policy_document),\n",
    "        Description='Allows lambda function to access S3 resources'\n",
    "    )"
   ]
  },
  {
   "cell_type": "markdown",
   "id": "0349b040",
   "metadata": {},
   "source": [
    "### Creating an IAM Execution Role"
   ]
  },
  {
   "cell_type": "code",
   "execution_count": null,
   "id": "3d2eff0c",
   "metadata": {},
   "outputs": [],
   "source": [
    "def create_execution_role_for_lambda():\n",
    "    lamda_execution_assumption_role = {\n",
    "        \"Version\": \"2012-10-17\",\n",
    "        \"Statement\": [\n",
    "            {\n",
    "                \"Effect\": \"Allow\",\n",
    "                \"Principal\": {\n",
    "                    \"Service\": \"lambda.amazonaws.com\"\n",
    "                },\n",
    "                \"Action\": \"sts:AssumeRole\"\n",
    "            }\n",
    "        ]\n",
    "    }\n",
    "\n",
    "    return iam_client().create_role(\n",
    "        RoleName=LAMBDA_ROLE,\n",
    "        AssumeRolePolicyDocument=json.dumps(lamda_execution_assumption_role),\n",
    "        Description=\"Gives necessary permissions for lambda to be executed\"\n",
    "    )"
   ]
  },
  {
   "cell_type": "markdown",
   "id": "cbc0b520",
   "metadata": {},
   "source": [
    "### Attaching IAM Access Policy to IAM Execution Role"
   ]
  },
  {
   "cell_type": "code",
   "execution_count": null,
   "id": "b53377f5",
   "metadata": {},
   "outputs": [],
   "source": [
    "def attach_access_policy_to_execution_role():\n",
    "    return iam_client().attach_role_policy(\n",
    "        RoleName=LAMBDA_ROLE,\n",
    "        PolicyArn=LAMBDA_ACCESS_POLICY_ARN\n",
    "    )"
   ]
  },
  {
   "cell_type": "markdown",
   "id": "3831fdfe",
   "metadata": {},
   "source": [
    "### Implementing Utility Methods for Source Code Bytes Reading"
   ]
  },
  {
   "cell_type": "code",
   "execution_count": null,
   "id": "0d5d0669",
   "metadata": {},
   "outputs": [],
   "source": [
    "cat utils.py"
   ]
  },
  {
   "cell_type": "markdown",
   "id": "dacc2fed",
   "metadata": {},
   "source": [
    "### Developing a Python Lambda Function"
   ]
  },
  {
   "cell_type": "code",
   "execution_count": null,
   "id": "dcc95083",
   "metadata": {},
   "outputs": [],
   "source": [
    "cat python_lambda_function.py"
   ]
  },
  {
   "cell_type": "markdown",
   "id": "a2fb1592",
   "metadata": {},
   "source": [
    "### Deploying Python Lambda Function"
   ]
  },
  {
   "cell_type": "code",
   "execution_count": null,
   "id": "72c8c528",
   "metadata": {},
   "outputs": [],
   "source": [
    "def deploy_lambda_function(function_name, runtime, handler, role_arn, source_folder):\n",
    "    print (f\"source_folder: {source_folder}\")\n",
    "    print (f\"function_name: {function_name}\")\n",
    "    print (f\"role_arn: {role_arn}\")\n",
    "    print (f\"runtime: {runtime}\")\n",
    "    \n",
    "    folder_path = path.join(path.abspath(\".\"), source_folder)\n",
    "\n",
    "    print (f\"folder_path: {folder_path}\")\n",
    "    \n",
    "    if runtime is not JAVA_8_RUNTIME:\n",
    "        zip_file = Utils.make_zip_file_bytes(path=folder_path)\n",
    "    else:\n",
    "        zip_file = Utils.read_jar_file(folder_path)\n",
    "\n",
    "    print (f\"zip_file: {zip_file}\")\n",
    "    \n",
    "    return lambda_client().create_function(\n",
    "        FunctionName=function_name,\n",
    "        Runtime=runtime,\n",
    "        Role=role_arn,\n",
    "        Handler=handler,\n",
    "        Code={\n",
    "            'ZipFile': zip_file\n",
    "        },\n",
    "        Timeout=LAMBDA_TIMEOUT,\n",
    "        MemorySize=LAMBDA_MEMORY,\n",
    "        Publish=False\n",
    "    )\n"
   ]
  },
  {
   "cell_type": "markdown",
   "id": "849b3864",
   "metadata": {},
   "source": [
    "### AWS Console Checkpoint: Python Lambda Function\n",
    " - Open AWS Console and verify that lambda function is created as expected"
   ]
  },
  {
   "cell_type": "markdown",
   "id": "ee6ccfff",
   "metadata": {},
   "source": [
    "# Updating Function Code and Versioning"
   ]
  },
  {
   "cell_type": "markdown",
   "id": "13f636f8",
   "metadata": {},
   "source": [
    "### Invoking Functions"
   ]
  },
  {
   "cell_type": "code",
   "execution_count": null,
   "id": "5d3e16c3",
   "metadata": {},
   "outputs": [],
   "source": [
    "def invoke_lambda_function(function_name):\n",
    "    return lambda_client().invoke(FunctionName=function_name)"
   ]
  },
  {
   "cell_type": "markdown",
   "id": "2358104e",
   "metadata": {},
   "source": [
    "### Modify lambda function configuration to accept environment variables"
   ]
  },
  {
   "cell_type": "code",
   "execution_count": null,
   "id": "29de329d",
   "metadata": {},
   "outputs": [],
   "source": [
    "def add_environment_variables_to_lambda(function_name, variables):\n",
    "    return lambda_client().update_function_configuration(\n",
    "        FunctionName=function_name,\n",
    "        Environment=variables\n",
    "    )\n"
   ]
  },
  {
   "cell_type": "markdown",
   "id": "87970b31",
   "metadata": {},
   "source": [
    "### Modifying Function Code to Use Environment Variable and Invoking"
   ]
  },
  {
   "cell_type": "code",
   "execution_count": null,
   "id": "227d88c0",
   "metadata": {},
   "outputs": [],
   "source": [
    "def update_lambda_function_code(function_name, source_folder):\n",
    "    folder_path = path.join(path.abspath('.'), source_folder)\n",
    "    zip_file = Utils.make_zip_file_bytes(path=folder_path)\n",
    "\n",
    "    return lambda_client().update_function_code(\n",
    "        FunctionName=function_name,\n",
    "        ZipFile=zip_file\n",
    "    )"
   ]
  },
  {
   "cell_type": "markdown",
   "id": "c117a635",
   "metadata": {},
   "source": [
    "### Publish new version of lambda"
   ]
  },
  {
   "cell_type": "code",
   "execution_count": null,
   "id": "55018610",
   "metadata": {},
   "outputs": [],
   "source": [
    "def publish_a_new_version(function_name):\n",
    "    return lambda_client().publish_version(\n",
    "        FunctionName=function_name\n",
    "    )\n"
   ]
  },
  {
   "cell_type": "markdown",
   "id": "45a9fc11",
   "metadata": {},
   "source": [
    "### Creating Aliases for Function Versions"
   ]
  },
  {
   "cell_type": "code",
   "execution_count": null,
   "id": "2820e931",
   "metadata": {},
   "outputs": [],
   "source": [
    "def create_alias_for_new_version(function_name, alias_name, version):\n",
    "    return lambda_client().create_alias(\n",
    "        FunctionName=function_name,\n",
    "        Name=alias_name,\n",
    "        FunctionVersion=version,\n",
    "        Description='This is the ' + alias_name + ' alias for function'\n",
    "    )"
   ]
  },
  {
   "cell_type": "code",
   "execution_count": null,
   "id": "24e0ae22",
   "metadata": {},
   "outputs": [],
   "source": [
    "def invoke_lambda_with_alias(function_name, alias_name):\n",
    "    return lambda_client().invoke(\n",
    "        FunctionName=function_name,\n",
    "        Qualifier=alias_name\n",
    "    )"
   ]
  },
  {
   "cell_type": "markdown",
   "id": "815710de",
   "metadata": {},
   "source": [
    "# Function Operations"
   ]
  },
  {
   "cell_type": "markdown",
   "id": "5df10bf4",
   "metadata": {},
   "source": [
    "### Getting a Function Configuration"
   ]
  },
  {
   "cell_type": "code",
   "execution_count": null,
   "id": "a986acf0",
   "metadata": {},
   "outputs": [],
   "source": [
    "def get_function(function_name):\n",
    "    return lambda_client().get_function(FunctionName=function_name)"
   ]
  },
  {
   "cell_type": "markdown",
   "id": "f0b0ab26",
   "metadata": {},
   "source": [
    "### Listing All Function Configurations"
   ]
  },
  {
   "cell_type": "code",
   "execution_count": null,
   "id": "2f09682e",
   "metadata": {},
   "outputs": [],
   "source": [
    "def get_all_functions():\n",
    "    return lambda_client().list_functions()"
   ]
  },
  {
   "cell_type": "markdown",
   "id": "fd5d50c1",
   "metadata": {},
   "source": [
    "### Updating Function Configurations"
   ]
  },
  {
   "cell_type": "code",
   "execution_count": null,
   "id": "d30b4db7",
   "metadata": {},
   "outputs": [],
   "source": [
    "def increase_lambda_execution_memory(function_name, new_memory_size):\n",
    "    return lambda_client().update_function_configuration(\n",
    "        FunctionName=function_name,\n",
    "        MemorySize=new_memory_size\n",
    "    )"
   ]
  },
  {
   "cell_type": "markdown",
   "id": "3a41ce65",
   "metadata": {},
   "source": [
    "### Deleting Functions"
   ]
  },
  {
   "cell_type": "code",
   "execution_count": null,
   "id": "18f6ce18",
   "metadata": {},
   "outputs": [],
   "source": [
    "def delete_lambda_function(function_name):\n",
    "    return lambda_client().delete_function(FunctionName=function_name)"
   ]
  },
  {
   "cell_type": "code",
   "execution_count": null,
   "id": "8ca0b77a",
   "metadata": {},
   "outputs": [],
   "source": [
    "# print(create_access_policy_for_lambda())\n"
   ]
  },
  {
   "cell_type": "code",
   "execution_count": null,
   "id": "954206c2",
   "metadata": {},
   "outputs": [],
   "source": [
    "# print(create_execution_role_for_lambda())\n"
   ]
  },
  {
   "cell_type": "code",
   "execution_count": null,
   "id": "de6fb7d8",
   "metadata": {},
   "outputs": [],
   "source": [
    "# print(attach_access_policy_to_execution_role())\n"
   ]
  },
  {
   "cell_type": "code",
   "execution_count": null,
   "id": "f9bf724b",
   "metadata": {},
   "outputs": [],
   "source": [
    "# print(deploy_lambda_function(PYTHON_LAMBDA_NAME, PYTHON_36_RUNTIME, LAMBDA_HANDLER, LAMBDA_ROLE_ARN, 'python_lambda'))\n"
   ]
  },
  {
   "cell_type": "code",
   "execution_count": null,
   "id": "5fa25252",
   "metadata": {},
   "outputs": [],
   "source": [
    "# print(deploy_lambda_function(NODEJS_LAMBDA_NAME, NODEJS_810_RUNTIME, LAMBDA_HANDLER, LAMBDA_ROLE_ARN, 'nodejs_lambda'))\n"
   ]
  },
  {
   "cell_type": "code",
   "execution_count": null,
   "id": "5f336f2b",
   "metadata": {},
   "outputs": [],
   "source": [
    "# print(deploy_lambda_function(JAVA_LAMBDA_NAME, JAVA_8_RUNTIME, 'com.amazonaws.lambda.demo.LambdaFunctionHandler::handleRequest', LAMBDA_ROLE_ARN, 'JavaLambdaFunction/target/demo-1.0.0.jar'))\n"
   ]
  },
  {
   "cell_type": "code",
   "execution_count": null,
   "id": "0653b4c0",
   "metadata": {},
   "outputs": [],
   "source": [
    "# response = invoke_lambda_function(PYTHON_LAMBDA_NAME)\n"
   ]
  },
  {
   "cell_type": "code",
   "execution_count": null,
   "id": "df66748c",
   "metadata": {},
   "outputs": [],
   "source": [
    "#print(response['Payload'].read().decode())\n"
   ]
  },
  {
   "cell_type": "code",
   "execution_count": null,
   "id": "1a009458",
   "metadata": {},
   "outputs": [],
   "source": [
    "env_variables = {\n",
    "    'Variables': {\n",
    "        'ENV_VAR_TEST': 'This is an environment variable!'\n",
    "    }\n",
    "}\n"
   ]
  },
  {
   "cell_type": "code",
   "execution_count": null,
   "id": "5fcb30d6",
   "metadata": {},
   "outputs": [],
   "source": [
    "#add_environment_variables_to_lambda(PYTHON_LAMBDA_NAME, env_variables)\n"
   ]
  },
  {
   "cell_type": "code",
   "execution_count": null,
   "id": "3140364f",
   "metadata": {},
   "outputs": [],
   "source": [
    "#print(update_lambda_function_code(PYTHON_LAMBDA_NAME, 'python_lambda'))\n"
   ]
  },
  {
   "cell_type": "code",
   "execution_count": null,
   "id": "1f28d418",
   "metadata": {},
   "outputs": [],
   "source": [
    "response = invoke_lambda_function(PYTHON_LAMBDA_NAME)\n",
    "print(response['Payload'].read().decode())\n"
   ]
  },
  {
   "cell_type": "code",
   "execution_count": null,
   "id": "fa306cab",
   "metadata": {},
   "outputs": [],
   "source": [
    "print(publish_a_new_version(PYTHON_LAMBDA_NAME))\n"
   ]
  },
  {
   "cell_type": "code",
   "execution_count": null,
   "id": "dc5b845a",
   "metadata": {},
   "outputs": [],
   "source": [
    "create_alias_for_new_version(PYTHON_LAMBDA_NAME, 'PROD', '1')\n"
   ]
  },
  {
   "cell_type": "code",
   "execution_count": null,
   "id": "c89288db",
   "metadata": {},
   "outputs": [],
   "source": [
    "response = invoke_lambda_with_alias(PYTHON_LAMBDA_NAME, 'PROD')\n",
    "print(response['Payload'].read().decode())\n"
   ]
  },
  {
   "cell_type": "code",
   "execution_count": null,
   "id": "97152c4a",
   "metadata": {},
   "outputs": [],
   "source": [
    "print(get_function(PYTHON_LAMBDA_NAME))\n"
   ]
  },
  {
   "cell_type": "code",
   "execution_count": null,
   "id": "429f3e38",
   "metadata": {},
   "outputs": [],
   "source": [
    "print(get_all_functions())\n"
   ]
  },
  {
   "cell_type": "code",
   "execution_count": null,
   "id": "eaecd66d",
   "metadata": {},
   "outputs": [],
   "source": [
    "increase_lambda_execution_memory(PYTHON_LAMBDA_NAME, 256)\n"
   ]
  },
  {
   "cell_type": "code",
   "execution_count": null,
   "id": "b3be4224",
   "metadata": {},
   "outputs": [],
   "source": [
    "delete_lambda_function(NODEJS_LAMBDA_NAME)"
   ]
  }
 ],
 "metadata": {
  "kernelspec": {
   "display_name": "Python 3 (ipykernel)",
   "language": "python",
   "name": "python3"
  },
  "language_info": {
   "codemirror_mode": {
    "name": "ipython",
    "version": 3
   },
   "file_extension": ".py",
   "mimetype": "text/x-python",
   "name": "python",
   "nbconvert_exporter": "python",
   "pygments_lexer": "ipython3",
   "version": "3.8.10"
  }
 },
 "nbformat": 4,
 "nbformat_minor": 5
}
