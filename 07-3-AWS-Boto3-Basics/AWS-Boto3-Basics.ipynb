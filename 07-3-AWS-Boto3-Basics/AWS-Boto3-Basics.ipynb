{
 "cells": [
  {
   "cell_type": "code",
   "execution_count": null,
   "id": "5353302f",
   "metadata": {},
   "outputs": [],
   "source": [
    "import boto3"
   ]
  },
  {
   "cell_type": "markdown",
   "id": "594e4ec4",
   "metadata": {},
   "source": [
    "## List IAM Users"
   ]
  },
  {
   "cell_type": "code",
   "execution_count": null,
   "id": "a2185255",
   "metadata": {},
   "outputs": [],
   "source": [
    "aws_mag_con=boto3.session.Session(profile_name=\"default\")\n",
    "iam_con=aws_mag_con.resource('iam')\n",
    "\n",
    "for each_user in iam_con.users.all():\n",
    "    print(each_user.name)"
   ]
  },
  {
   "cell_type": "markdown",
   "id": "edc891e2",
   "metadata": {},
   "source": [
    "## About Session Client Resouce"
   ]
  },
  {
   "cell_type": "code",
   "execution_count": 14,
   "id": "6ff3d18f",
   "metadata": {},
   "outputs": [],
   "source": [
    "aws_mag_con_default=boto3.session.Session(profile_name=\"default\")\n",
    "#aws_mag_con_default=boto3.session.Session(profile_name=\"ec2_developer\")\n",
    "\n",
    "iam_con_re=aws_mag_con_default.resource(service_name='iam',region_name=\"us-east-2\")\n",
    "iam_con_cli=aws_mag_con_default.client(service_name='iam',region_name=\"us-east-2\")"
   ]
  },
  {
   "cell_type": "code",
   "execution_count": 15,
   "id": "74079285",
   "metadata": {},
   "outputs": [
    {
     "name": "stdout",
     "output_type": "stream",
     "text": [
      "atin\n",
      "u1\n",
      "u10\n",
      "u11\n",
      "u12\n",
      "u13\n",
      "u15\n",
      "u17\n",
      "u18\n",
      "u2\n",
      "u20\n",
      "u22\n",
      "u25\n",
      "u34\n",
      "u35\n",
      "u37\n",
      "u38\n",
      "u39\n",
      "u4\n",
      "u40\n",
      "u5\n",
      "u6\n",
      "u7\n",
      "u8\n",
      "u9\n"
     ]
    }
   ],
   "source": [
    "#Listiing iam users with resource object:\n",
    "for each_user in iam_con_re.users.all():\n",
    "    print(each_user.name)"
   ]
  },
  {
   "cell_type": "code",
   "execution_count": 16,
   "id": "ee2a01bb",
   "metadata": {},
   "outputs": [
    {
     "name": "stdout",
     "output_type": "stream",
     "text": [
      "atin\n",
      "u1\n",
      "u10\n",
      "u11\n",
      "u12\n",
      "u13\n",
      "u15\n",
      "u17\n",
      "u18\n",
      "u2\n",
      "u20\n",
      "u22\n",
      "u25\n",
      "u34\n",
      "u35\n",
      "u37\n",
      "u38\n",
      "u39\n",
      "u4\n",
      "u40\n",
      "u5\n",
      "u6\n",
      "u7\n",
      "u8\n",
      "u9\n"
     ]
    }
   ],
   "source": [
    "#Listing iam users with client object:\n",
    "\n",
    "for each in iam_con_cli.list_users()['Users']:\n",
    "   print(each['UserName'])\n"
   ]
  },
  {
   "cell_type": "markdown",
   "id": "f1b740be",
   "metadata": {},
   "source": [
    "## Help on client object"
   ]
  },
  {
   "cell_type": "code",
   "execution_count": 17,
   "id": "c006ba65",
   "metadata": {},
   "outputs": [],
   "source": [
    "aws_mag_con=boto3.session.Session(profile_name=\"default\")\n",
    "#iam,ec2 and s3\n",
    "iam_con_cli=aws_mag_con.client(service_name=\"iam\",region_name=\"us-east-1\")\n",
    "ec2_con_cli=aws_mag_con.client(service_name=\"ec2\",region_name=\"us-east-1\")\n",
    "s3_con_cli=aws_mag_con.client(service_name=\"s3\",region_name=\"us-east-1\")"
   ]
  },
  {
   "cell_type": "code",
   "execution_count": 18,
   "id": "a33def0c",
   "metadata": {},
   "outputs": [
    {
     "name": "stdout",
     "output_type": "stream",
     "text": [
      "atin\n",
      "u1\n",
      "u10\n",
      "u11\n",
      "u12\n",
      "u13\n",
      "u15\n",
      "u17\n",
      "u18\n",
      "u2\n",
      "u20\n",
      "u22\n",
      "u25\n",
      "u34\n",
      "u35\n",
      "u37\n",
      "u38\n",
      "u39\n",
      "u4\n",
      "u40\n",
      "u5\n",
      "u6\n",
      "u7\n",
      "u8\n",
      "u9\n"
     ]
    }
   ],
   "source": [
    "#List all iam users using client object\n",
    "response=iam_con_cli.list_users()\n",
    "for each_item in response['Users']:\n",
    "    print(each_item['UserName'])"
   ]
  },
  {
   "cell_type": "code",
   "execution_count": 21,
   "id": "3ad344d3",
   "metadata": {},
   "outputs": [],
   "source": [
    "#List all ec2 instaces ids\n",
    "response=ec2_con_cli.describe_instances()\n",
    "for each_item in response['Reservations']:\n",
    "\tfor each_instance in each_item['Instances']:\n",
    "\t\tprint(each_instance['InstanceId'])"
   ]
  },
  {
   "cell_type": "code",
   "execution_count": 20,
   "id": "f5cf408f",
   "metadata": {},
   "outputs": [
    {
     "name": "stdout",
     "output_type": "stream",
     "text": [
      "atin-remote-backend\n",
      "atin-remote-backend-my\n",
      "aws-athena-query-results-us-east-1-059062539581\n",
      "u40-samplebucket\n"
     ]
    }
   ],
   "source": [
    "#List all s3 buckets\n",
    "response=s3_con_cli.list_buckets()\n",
    "for each_item in response['Buckets']:\n",
    "\tprint(each_item['Name'])\n",
    "\t#print(each_item.get('Name'))"
   ]
  },
  {
   "cell_type": "markdown",
   "id": "25b2f25d",
   "metadata": {},
   "source": [
    "## Resource object example"
   ]
  },
  {
   "cell_type": "code",
   "execution_count": 22,
   "id": "e5c742a3",
   "metadata": {},
   "outputs": [],
   "source": [
    "import boto3\n",
    "\n",
    "aws_mag_con=boto3.session.Session(profile_name=\"default\")\n",
    "iam_con_re=aws_mag_con.resource(service_name=\"iam\",region_name=\"us-east-1\")\n",
    "ec2_con_re=aws_mag_con.resource(service_name=\"ec2\",region_name=\"us-east-1\")\n",
    "s3_con_re=aws_mag_con.resource(service_name=\"s3\",region_name=\"us-east-1\")"
   ]
  },
  {
   "cell_type": "code",
   "execution_count": 23,
   "id": "5c8f0fbf",
   "metadata": {},
   "outputs": [
    {
     "name": "stdout",
     "output_type": "stream",
     "text": [
      "atin\n",
      "u1\n",
      "u10\n",
      "u11\n",
      "u12\n",
      "u13\n",
      "u15\n",
      "u17\n",
      "u18\n",
      "u2\n",
      "u20\n",
      "u22\n",
      "u25\n",
      "u34\n",
      "u35\n",
      "u37\n",
      "u38\n",
      "u39\n",
      "u4\n",
      "u40\n",
      "u5\n",
      "u6\n",
      "u7\n",
      "u8\n",
      "u9\n"
     ]
    }
   ],
   "source": [
    "#List all iam users\n",
    "for each_item in iam_con_re.users.all():\n",
    "\tprint(each_item.user_name)\n"
   ]
  },
  {
   "cell_type": "code",
   "execution_count": 24,
   "id": "3bad88ce",
   "metadata": {},
   "outputs": [
    {
     "name": "stdout",
     "output_type": "stream",
     "text": [
      "atin-remote-backend\n",
      "atin-remote-backend-my\n",
      "aws-athena-query-results-us-east-1-059062539581\n",
      "u40-samplebucket\n"
     ]
    }
   ],
   "source": [
    "for each_item in s3_con_re.buckets.limit(10):\n",
    "\tprint(each_item.name)"
   ]
  }
 ],
 "metadata": {
  "kernelspec": {
   "display_name": "Python 3 (ipykernel)",
   "language": "python",
   "name": "python3"
  },
  "language_info": {
   "codemirror_mode": {
    "name": "ipython",
    "version": 3
   },
   "file_extension": ".py",
   "mimetype": "text/x-python",
   "name": "python",
   "nbconvert_exporter": "python",
   "pygments_lexer": "ipython3",
   "version": "3.8.10"
  }
 },
 "nbformat": 4,
 "nbformat_minor": 5
}
